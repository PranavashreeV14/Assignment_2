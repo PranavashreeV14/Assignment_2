{
  "nbformat": 4,
  "nbformat_minor": 0,
  "metadata": {
    "colab": {
      "provenance": [],
      "authorship_tag": "ABX9TyMkn1AxigPqPjWXE4FCEZHN",
      "include_colab_link": true
    },
    "kernelspec": {
      "name": "python3",
      "display_name": "Python 3"
    },
    "language_info": {
      "name": "python"
    }
  },
  "cells": [
    {
      "cell_type": "markdown",
      "metadata": {
        "id": "view-in-github",
        "colab_type": "text"
      },
      "source": [
        "<a href=\"https://colab.research.google.com/github/PranavashreeV14/Assignment_2/blob/main/Untitled13.ipynb\" target=\"_parent\"><img src=\"https://colab.research.google.com/assets/colab-badge.svg\" alt=\"Open In Colab\"/></a>"
      ]
    },
    {
      "cell_type": "code",
      "execution_count": 1,
      "metadata": {
        "colab": {
          "base_uri": "https://localhost:8080/"
        },
        "id": "xdZZa3O6cAKe",
        "outputId": "cc510c73-d6e3-49ed-ea55-761c1b2becad"
      },
      "outputs": [
        {
          "output_type": "execute_result",
          "data": {
            "text/plain": [
              "['climate_data_team6.csv',\n",
              " 'climate_data_team0.csv',\n",
              " 'climate_data_team5.csv',\n",
              " 'climate_data_team4.csv',\n",
              " 'climate_data_team8.csv',\n",
              " 'climate_data_team9.csv',\n",
              " 'climate_data_team1.csv',\n",
              " 'climate_data_team7.csv',\n",
              " 'climate_data_team3.csv',\n",
              " 'climate_data_team2.csv']"
            ]
          },
          "metadata": {},
          "execution_count": 1
        }
      ],
      "source": [
        "import numpy as np\n",
        "import os\n",
        "def Split_file(url,n=10):\n",
        "  climate_data=np.genfromtxt(url,delimiter=',',skip_header=1)\n",
        "  splited_arr=np.array_split(climate_data,n)\n",
        "  if 'climate_project' in os.listdir():\n",
        "                   pass\n",
        "  else:\n",
        "      os.mkdir('climate_project')\n",
        "  for i in range(n):\n",
        "      np.savetxt(f'climate_project/climate_data_team{i}.csv',splited_arr[i],delimiter=',',fmt='%i',header='temperature,rainfall,humidity')\n",
        "  return (os.listdir('/content/climate_project'))\n",
        "file_url='https://raw.githubusercontent.com/svkarthik86/Advanced-python/main/climate.txt'\n",
        "Split_file(file_url)"
      ]
    }
  ]
}